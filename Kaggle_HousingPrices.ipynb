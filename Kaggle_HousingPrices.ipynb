{
 "cells": [
  {
   "cell_type": "raw",
   "id": "75026de1",
   "metadata": {
    "papermill": {
     "duration": 0.029636,
     "end_time": "2021-09-22T17:20:44.509602",
     "exception": false,
     "start_time": "2021-09-22T17:20:44.479966",
     "status": "completed"
    },
    "tags": []
   },
   "source": [
    "upgrade to latest version of sklearn -- make sure internet is enabled"
   ]
  },
  {
   "cell_type": "code",
   "execution_count": 1,
   "id": "1040e29a",
   "metadata": {
    "execution": {
     "iopub.execute_input": "2021-09-22T17:20:44.571505Z",
     "iopub.status.busy": "2021-09-22T17:20:44.570253Z",
     "iopub.status.idle": "2021-09-22T17:21:02.532360Z",
     "shell.execute_reply": "2021-09-22T17:21:02.532942Z",
     "shell.execute_reply.started": "2021-09-22T17:15:27.462395Z"
    },
    "papermill": {
     "duration": 17.994688,
     "end_time": "2021-09-22T17:21:02.533306",
     "exception": false,
     "start_time": "2021-09-22T17:20:44.538618",
     "status": "completed"
    },
    "tags": []
   },
   "outputs": [
    {
     "name": "stdout",
     "output_type": "stream",
     "text": [
      "Collecting scikit-learn==0.24.2\r\n",
      "  Downloading scikit_learn-0.24.2-cp37-cp37m-manylinux2010_x86_64.whl (22.3 MB)\r\n",
      "\u001b[K     |████████████████████████████████| 22.3 MB 1.7 MB/s \r\n",
      "\u001b[?25hRequirement already satisfied: threadpoolctl>=2.0.0 in /opt/conda/lib/python3.7/site-packages (from scikit-learn==0.24.2) (2.2.0)\r\n",
      "Requirement already satisfied: scipy>=0.19.1 in /opt/conda/lib/python3.7/site-packages (from scikit-learn==0.24.2) (1.7.1)\r\n",
      "Requirement already satisfied: numpy>=1.13.3 in /opt/conda/lib/python3.7/site-packages (from scikit-learn==0.24.2) (1.19.5)\r\n",
      "Requirement already satisfied: joblib>=0.11 in /opt/conda/lib/python3.7/site-packages (from scikit-learn==0.24.2) (1.0.1)\r\n",
      "Installing collected packages: scikit-learn\r\n",
      "  Attempting uninstall: scikit-learn\r\n",
      "    Found existing installation: scikit-learn 0.23.2\r\n",
      "    Uninstalling scikit-learn-0.23.2:\r\n",
      "      Successfully uninstalled scikit-learn-0.23.2\r\n",
      "\u001b[31mERROR: pip's dependency resolver does not currently take into account all the packages that are installed. This behaviour is the source of the following dependency conflicts.\r\n",
      "pdpbox 0.2.1 requires matplotlib==3.1.1, but you have matplotlib 3.4.3 which is incompatible.\r\n",
      "hypertools 0.7.0 requires scikit-learn!=0.22,<0.24,>=0.19.1, but you have scikit-learn 0.24.2 which is incompatible.\u001b[0m\r\n",
      "Successfully installed scikit-learn-0.24.2\r\n",
      "\u001b[33mWARNING: Running pip as the 'root' user can result in broken permissions and conflicting behaviour with the system package manager. It is recommended to use a virtual environment instead: https://pip.pypa.io/warnings/venv\u001b[0m\r\n"
     ]
    }
   ],
   "source": [
    "!pip install --upgrade scikit-learn==0.24.2"
   ]
  },
  {
   "cell_type": "markdown",
   "id": "198701ca",
   "metadata": {
    "papermill": {
     "duration": 0.05018,
     "end_time": "2021-09-22T17:21:02.633650",
     "exception": false,
     "start_time": "2021-09-22T17:21:02.583470",
     "status": "completed"
    },
    "tags": []
   },
   "source": [
    "error message on first install"
   ]
  },
  {
   "cell_type": "code",
   "execution_count": 2,
   "id": "45470659",
   "metadata": {
    "execution": {
     "iopub.execute_input": "2021-09-22T17:21:02.735416Z",
     "iopub.status.busy": "2021-09-22T17:21:02.732726Z",
     "iopub.status.idle": "2021-09-22T17:21:11.428438Z",
     "shell.execute_reply": "2021-09-22T17:21:11.428951Z",
     "shell.execute_reply.started": "2021-09-22T17:15:36.054704Z"
    },
    "papermill": {
     "duration": 8.747515,
     "end_time": "2021-09-22T17:21:11.429147",
     "exception": false,
     "start_time": "2021-09-22T17:21:02.681632",
     "status": "completed"
    },
    "tags": []
   },
   "outputs": [
    {
     "name": "stdout",
     "output_type": "stream",
     "text": [
      "Requirement already satisfied: scikit-learn==0.24.2 in /opt/conda/lib/python3.7/site-packages (0.24.2)\r\n",
      "Requirement already satisfied: threadpoolctl>=2.0.0 in /opt/conda/lib/python3.7/site-packages (from scikit-learn==0.24.2) (2.2.0)\r\n",
      "Requirement already satisfied: scipy>=0.19.1 in /opt/conda/lib/python3.7/site-packages (from scikit-learn==0.24.2) (1.7.1)\r\n",
      "Requirement already satisfied: numpy>=1.13.3 in /opt/conda/lib/python3.7/site-packages (from scikit-learn==0.24.2) (1.19.5)\r\n",
      "Requirement already satisfied: joblib>=0.11 in /opt/conda/lib/python3.7/site-packages (from scikit-learn==0.24.2) (1.0.1)\r\n",
      "\u001b[33mWARNING: Running pip as the 'root' user can result in broken permissions and conflicting behaviour with the system package manager. It is recommended to use a virtual environment instead: https://pip.pypa.io/warnings/venv\u001b[0m\r\n"
     ]
    }
   ],
   "source": [
    "!pip install --upgrade scikit-learn==0.24.2"
   ]
  },
  {
   "cell_type": "markdown",
   "id": "3125bc8b",
   "metadata": {
    "papermill": {
     "duration": 0.048347,
     "end_time": "2021-09-22T17:21:11.526417",
     "exception": false,
     "start_time": "2021-09-22T17:21:11.478070",
     "status": "completed"
    },
    "tags": []
   },
   "source": [
    "running twice shows that it was installed correctly"
   ]
  },
  {
   "cell_type": "markdown",
   "id": "543035e1",
   "metadata": {
    "papermill": {
     "duration": 0.049115,
     "end_time": "2021-09-22T17:21:11.624113",
     "exception": false,
     "start_time": "2021-09-22T17:21:11.574998",
     "status": "completed"
    },
    "tags": []
   },
   "source": [
    "Old version of sklearn. "
   ]
  },
  {
   "cell_type": "code",
   "execution_count": 3,
   "id": "7d8d5039",
   "metadata": {
    "_cell_guid": "b1076dfc-b9ad-4769-8c92-a6c4dae69d19",
    "_uuid": "8f2839f25d086af736a60e9eeb907d3b93b6e0e5",
    "execution": {
     "iopub.execute_input": "2021-09-22T17:21:11.730313Z",
     "iopub.status.busy": "2021-09-22T17:21:11.729521Z",
     "iopub.status.idle": "2021-09-22T17:21:12.717890Z",
     "shell.execute_reply": "2021-09-22T17:21:12.718458Z",
     "shell.execute_reply.started": "2021-09-22T17:15:44.723749Z"
    },
    "papermill": {
     "duration": 1.045294,
     "end_time": "2021-09-22T17:21:12.718667",
     "exception": false,
     "start_time": "2021-09-22T17:21:11.673373",
     "status": "completed"
    },
    "tags": []
   },
   "outputs": [
    {
     "name": "stdout",
     "output_type": "stream",
     "text": [
      "/kaggle/input/house-prices-advanced-regression-techniques/sample_submission.csv\n",
      "/kaggle/input/house-prices-advanced-regression-techniques/data_description.txt\n",
      "/kaggle/input/house-prices-advanced-regression-techniques/train.csv\n",
      "/kaggle/input/house-prices-advanced-regression-techniques/test.csv\n"
     ]
    }
   ],
   "source": [
    "# This Python 3 environment comes with many helpful analytics libraries installed\n",
    "# It is defined by the kaggle/python Docker image: https://github.com/kaggle/docker-python\n",
    "# For example, here's several helpful packages to load\n",
    "\n",
    "import numpy as np # linear algebra\n",
    "import pandas as pd # data processing, CSV file I/O (e.g. pd.read_csv)\n",
    "from sklearn.pipeline import Pipeline\n",
    "from sklearn.impute import SimpleImputer\n",
    "from sklearn.preprocessing import RobustScaler, OrdinalEncoder, OneHotEncoder\n",
    "from sklearn.compose import ColumnTransformer\n",
    "\n",
    "# Input data files are available in the read-only \"../input/\" directory\n",
    "# For example, running this (by clicking run or pressing Shift+Enter) will list all files under the input directory\n",
    "\n",
    "import os\n",
    "for dirname, _, filenames in os.walk('/kaggle/input'):\n",
    "    for filename in filenames:\n",
    "        print(os.path.join(dirname, filename))\n",
    "\n",
    "# You can write up to 20GB to the current directory (/kaggle/working/) that gets preserved as output when you create a version using \"Save & Run All\" \n",
    "# You can also write temporary files to /kaggle/temp/, but they won't be saved outside of the current session\n"
   ]
  },
  {
   "cell_type": "code",
   "execution_count": 4,
   "id": "c4f347d7",
   "metadata": {
    "execution": {
     "iopub.execute_input": "2021-09-22T17:21:12.825021Z",
     "iopub.status.busy": "2021-09-22T17:21:12.824322Z",
     "iopub.status.idle": "2021-09-22T17:21:12.827625Z",
     "shell.execute_reply": "2021-09-22T17:21:12.828135Z",
     "shell.execute_reply.started": "2021-09-22T17:15:44.738989Z"
    },
    "papermill": {
     "duration": 0.060548,
     "end_time": "2021-09-22T17:21:12.828303",
     "exception": false,
     "start_time": "2021-09-22T17:21:12.767755",
     "status": "completed"
    },
    "tags": []
   },
   "outputs": [
    {
     "data": {
      "text/plain": [
       "'0.24.2'"
      ]
     },
     "execution_count": 4,
     "metadata": {},
     "output_type": "execute_result"
    }
   ],
   "source": [
    "import sklearn\n",
    "sklearn.__version__"
   ]
  },
  {
   "cell_type": "markdown",
   "id": "b00301d8",
   "metadata": {
    "papermill": {
     "duration": 0.0487,
     "end_time": "2021-09-22T17:21:12.926057",
     "exception": false,
     "start_time": "2021-09-22T17:21:12.877357",
     "status": "completed"
    },
    "tags": []
   },
   "source": [
    "Had an old version of sklearn. Needed to update manually"
   ]
  },
  {
   "cell_type": "markdown",
   "id": "fcc79c39",
   "metadata": {
    "papermill": {
     "duration": 0.049175,
     "end_time": "2021-09-22T17:21:13.024664",
     "exception": false,
     "start_time": "2021-09-22T17:21:12.975489",
     "status": "completed"
    },
    "tags": []
   },
   "source": [
    "Selected Features:"
   ]
  },
  {
   "cell_type": "code",
   "execution_count": 5,
   "id": "50a78c64",
   "metadata": {
    "execution": {
     "iopub.execute_input": "2021-09-22T17:21:13.132213Z",
     "iopub.status.busy": "2021-09-22T17:21:13.131077Z",
     "iopub.status.idle": "2021-09-22T17:21:13.133666Z",
     "shell.execute_reply": "2021-09-22T17:21:13.133156Z",
     "shell.execute_reply.started": "2021-09-22T17:15:44.750838Z"
    },
    "papermill": {
     "duration": 0.059982,
     "end_time": "2021-09-22T17:21:13.133850",
     "exception": false,
     "start_time": "2021-09-22T17:21:13.073868",
     "status": "completed"
    },
    "tags": []
   },
   "outputs": [],
   "source": [
    "ordinal_features = [\"Street\", \"Alley\", \"YearBuilt\",\"YearRemodAdd\", \"ExterQual\", \"ExterCond\", \"CentralAir\", \"GarageYrBlt\", \"PavedDrive\", \"YrSold\", \"MoSold\", \"FireplaceQu\", \"HeatingQC\", \"KitchenQual\", \"PoolQC\"]\n",
    "numerical_features = [\"MSSubClass\", \"LotFrontage\", \"LotArea\", \"OverallQual\", \"OverallCond\", \"1stFlrSF\", \"2ndFlrSF\", \"FullBath\", \"HalfBath\", \"TotalBsmtSF\"]\n",
    "categorical_features = [\"MSZoning\",  \"Heating\", \"BldgType\", \"HouseStyle\",\"Foundation\", \"GarageType\",\"GarageFinish\", \"SaleCondition\", \"SaleType\"]\n"
   ]
  },
  {
   "cell_type": "code",
   "execution_count": 6,
   "id": "1d9981f1",
   "metadata": {
    "execution": {
     "iopub.execute_input": "2021-09-22T17:21:13.239271Z",
     "iopub.status.busy": "2021-09-22T17:21:13.238508Z",
     "iopub.status.idle": "2021-09-22T17:21:13.314413Z",
     "shell.execute_reply": "2021-09-22T17:21:13.315070Z",
     "shell.execute_reply.started": "2021-09-22T17:15:44.764650Z"
    },
    "papermill": {
     "duration": 0.131518,
     "end_time": "2021-09-22T17:21:13.315270",
     "exception": false,
     "start_time": "2021-09-22T17:21:13.183752",
     "status": "completed"
    },
    "tags": []
   },
   "outputs": [],
   "source": [
    "df_train = pd.read_csv(\"../input/house-prices-advanced-regression-techniques/train.csv\")\n",
    "df_test = pd.read_csv(\"../input/house-prices-advanced-regression-techniques/test.csv\")"
   ]
  },
  {
   "cell_type": "code",
   "execution_count": 7,
   "id": "43763e85",
   "metadata": {
    "execution": {
     "iopub.execute_input": "2021-09-22T17:21:13.422116Z",
     "iopub.status.busy": "2021-09-22T17:21:13.421159Z",
     "iopub.status.idle": "2021-09-22T17:21:13.425092Z",
     "shell.execute_reply": "2021-09-22T17:21:13.424458Z",
     "shell.execute_reply.started": "2021-09-22T17:15:44.840499Z"
    },
    "papermill": {
     "duration": 0.060428,
     "end_time": "2021-09-22T17:21:13.425232",
     "exception": false,
     "start_time": "2021-09-22T17:21:13.364804",
     "status": "completed"
    },
    "tags": []
   },
   "outputs": [
    {
     "data": {
      "text/plain": [
       "Index(['Id', 'MSSubClass', 'MSZoning', 'LotFrontage', 'LotArea', 'Street',\n",
       "       'Alley', 'LotShape', 'LandContour', 'Utilities', 'LotConfig',\n",
       "       'LandSlope', 'Neighborhood', 'Condition1', 'Condition2', 'BldgType',\n",
       "       'HouseStyle', 'OverallQual', 'OverallCond', 'YearBuilt', 'YearRemodAdd',\n",
       "       'RoofStyle', 'RoofMatl', 'Exterior1st', 'Exterior2nd', 'MasVnrType',\n",
       "       'MasVnrArea', 'ExterQual', 'ExterCond', 'Foundation', 'BsmtQual',\n",
       "       'BsmtCond', 'BsmtExposure', 'BsmtFinType1', 'BsmtFinSF1',\n",
       "       'BsmtFinType2', 'BsmtFinSF2', 'BsmtUnfSF', 'TotalBsmtSF', 'Heating',\n",
       "       'HeatingQC', 'CentralAir', 'Electrical', '1stFlrSF', '2ndFlrSF',\n",
       "       'LowQualFinSF', 'GrLivArea', 'BsmtFullBath', 'BsmtHalfBath', 'FullBath',\n",
       "       'HalfBath', 'BedroomAbvGr', 'KitchenAbvGr', 'KitchenQual',\n",
       "       'TotRmsAbvGrd', 'Functional', 'Fireplaces', 'FireplaceQu', 'GarageType',\n",
       "       'GarageYrBlt', 'GarageFinish', 'GarageCars', 'GarageArea', 'GarageQual',\n",
       "       'GarageCond', 'PavedDrive', 'WoodDeckSF', 'OpenPorchSF',\n",
       "       'EnclosedPorch', '3SsnPorch', 'ScreenPorch', 'PoolArea', 'PoolQC',\n",
       "       'Fence', 'MiscFeature', 'MiscVal', 'MoSold', 'YrSold', 'SaleType',\n",
       "       'SaleCondition', 'SalePrice'],\n",
       "      dtype='object')"
      ]
     },
     "execution_count": 7,
     "metadata": {},
     "output_type": "execute_result"
    }
   ],
   "source": [
    "df_train.columns"
   ]
  },
  {
   "cell_type": "code",
   "execution_count": 8,
   "id": "6e5f9f47",
   "metadata": {
    "execution": {
     "iopub.execute_input": "2021-09-22T17:21:13.531921Z",
     "iopub.status.busy": "2021-09-22T17:21:13.531099Z",
     "iopub.status.idle": "2021-09-22T17:21:13.534837Z",
     "shell.execute_reply": "2021-09-22T17:21:13.534287Z",
     "shell.execute_reply.started": "2021-09-22T17:15:44.851624Z"
    },
    "papermill": {
     "duration": 0.060015,
     "end_time": "2021-09-22T17:21:13.534995",
     "exception": false,
     "start_time": "2021-09-22T17:21:13.474980",
     "status": "completed"
    },
    "tags": []
   },
   "outputs": [
    {
     "data": {
      "text/plain": [
       "Index(['Id', 'MSSubClass', 'MSZoning', 'LotFrontage', 'LotArea', 'Street',\n",
       "       'Alley', 'LotShape', 'LandContour', 'Utilities', 'LotConfig',\n",
       "       'LandSlope', 'Neighborhood', 'Condition1', 'Condition2', 'BldgType',\n",
       "       'HouseStyle', 'OverallQual', 'OverallCond', 'YearBuilt', 'YearRemodAdd',\n",
       "       'RoofStyle', 'RoofMatl', 'Exterior1st', 'Exterior2nd', 'MasVnrType',\n",
       "       'MasVnrArea', 'ExterQual', 'ExterCond', 'Foundation', 'BsmtQual',\n",
       "       'BsmtCond', 'BsmtExposure', 'BsmtFinType1', 'BsmtFinSF1',\n",
       "       'BsmtFinType2', 'BsmtFinSF2', 'BsmtUnfSF', 'TotalBsmtSF', 'Heating',\n",
       "       'HeatingQC', 'CentralAir', 'Electrical', '1stFlrSF', '2ndFlrSF',\n",
       "       'LowQualFinSF', 'GrLivArea', 'BsmtFullBath', 'BsmtHalfBath', 'FullBath',\n",
       "       'HalfBath', 'BedroomAbvGr', 'KitchenAbvGr', 'KitchenQual',\n",
       "       'TotRmsAbvGrd', 'Functional', 'Fireplaces', 'FireplaceQu', 'GarageType',\n",
       "       'GarageYrBlt', 'GarageFinish', 'GarageCars', 'GarageArea', 'GarageQual',\n",
       "       'GarageCond', 'PavedDrive', 'WoodDeckSF', 'OpenPorchSF',\n",
       "       'EnclosedPorch', '3SsnPorch', 'ScreenPorch', 'PoolArea', 'PoolQC',\n",
       "       'Fence', 'MiscFeature', 'MiscVal', 'MoSold', 'YrSold', 'SaleType',\n",
       "       'SaleCondition'],\n",
       "      dtype='object')"
      ]
     },
     "execution_count": 8,
     "metadata": {},
     "output_type": "execute_result"
    }
   ],
   "source": [
    "df_test.columns"
   ]
  },
  {
   "cell_type": "markdown",
   "id": "efccc1d0",
   "metadata": {
    "papermill": {
     "duration": 0.049609,
     "end_time": "2021-09-22T17:21:13.635918",
     "exception": false,
     "start_time": "2021-09-22T17:21:13.586309",
     "status": "completed"
    },
    "tags": []
   },
   "source": [
    "recode features before transforming"
   ]
  },
  {
   "cell_type": "code",
   "execution_count": 9,
   "id": "43309fde",
   "metadata": {
    "execution": {
     "iopub.execute_input": "2021-09-22T17:21:13.757845Z",
     "iopub.status.busy": "2021-09-22T17:21:13.756969Z",
     "iopub.status.idle": "2021-09-22T17:21:13.789699Z",
     "shell.execute_reply": "2021-09-22T17:21:13.790256Z",
     "shell.execute_reply.started": "2021-09-22T17:15:44.865741Z"
    },
    "papermill": {
     "duration": 0.102328,
     "end_time": "2021-09-22T17:21:13.790460",
     "exception": false,
     "start_time": "2021-09-22T17:21:13.688132",
     "status": "completed"
    },
    "tags": []
   },
   "outputs": [],
   "source": [
    "def recode_likert(df, var_name):\n",
    "    condition_map =  {\"Ex\" : 5, \"Gd\" : 4, \"TA\" : 3, \"Fa\" : 2, \"Po\" : 1, \"NA\": 0}\n",
    "    return df.loc[:, var_name].map(condition_map)\n",
    "\n",
    "df_test.loc[:, \"HeatingQC\"] = recode_likert(df_test, \"HeatingQC\")\n",
    "df_test.loc[:, \"FireplaceQu\"] = recode_likert(df_test, \"FireplaceQu\")\n",
    "df_test.loc[:, \"KitchenQual\"] = recode_likert(df_test, \"KitchenQual\")\n",
    "df_test.loc[:, \"PoolQC\"] = recode_likert(df_test, \"PoolQC\")\n",
    "df_test.loc[:, \"BsmtCond\"] = recode_likert(df_test, \"BsmtCond\")\n",
    "\n",
    "df_train.loc[:, \"HeatingQC\"] = recode_likert(df_train, \"HeatingQC\")\n",
    "df_train.loc[:, \"FireplaceQu\"] = recode_likert(df_train, \"FireplaceQu\")\n",
    "df_train.loc[:, \"KitchenQual\"] = recode_likert(df_train, \"KitchenQual\")\n",
    "df_train.loc[:, \"PoolQC\"] = recode_likert(df_train, \"PoolQC\")\n",
    "df_train.loc[:, \"BsmtCond\"] = recode_likert(df_train, \"BsmtCond\")\n",
    "\n",
    "LandSlope = {\"Gtl\": 0, \"Mod\": 1, \"Sev\": 2}\n",
    "\n",
    "df_test.loc[:, \"LandSlope\"] = df_test.loc[:, \"LandSlope\"].map(LandSlope)\n",
    "df_test.loc[:, \"2ndFlrSF\"].fillna(value= 0, inplace=True)\n",
    "\n",
    "df_train.loc[:, \"LandSlope\"] = df_train.loc[:, \"LandSlope\"].map(LandSlope)\n",
    "df_train.loc[:, \"2ndFlrSF\"].fillna(value= 0, inplace=True)"
   ]
  },
  {
   "cell_type": "markdown",
   "id": "e9b7585f",
   "metadata": {
    "papermill": {
     "duration": 0.052654,
     "end_time": "2021-09-22T17:21:13.893400",
     "exception": false,
     "start_time": "2021-09-22T17:21:13.840746",
     "status": "completed"
    },
    "tags": []
   },
   "source": [
    "having errors in the pipeline because I'm mixing strings and ints. Need to change the ordinal vars to strings?"
   ]
  },
  {
   "cell_type": "code",
   "execution_count": 10,
   "id": "f8b5cfda",
   "metadata": {
    "execution": {
     "iopub.execute_input": "2021-09-22T17:21:14.002334Z",
     "iopub.status.busy": "2021-09-22T17:21:14.001194Z",
     "iopub.status.idle": "2021-09-22T17:21:14.050095Z",
     "shell.execute_reply": "2021-09-22T17:21:14.050589Z",
     "shell.execute_reply.started": "2021-09-22T17:15:44.909159Z"
    },
    "papermill": {
     "duration": 0.104096,
     "end_time": "2021-09-22T17:21:14.050801",
     "exception": false,
     "start_time": "2021-09-22T17:21:13.946705",
     "status": "completed"
    },
    "tags": []
   },
   "outputs": [],
   "source": [
    "df_train.loc[:, ordinal_features] = df_train.loc[:, ordinal_features].applymap(str)\n",
    "df_test.loc[:, ordinal_features] = df_test.loc[:, ordinal_features].applymap(str) "
   ]
  },
  {
   "cell_type": "markdown",
   "id": "145c3280",
   "metadata": {
    "papermill": {
     "duration": 0.050647,
     "end_time": "2021-09-22T17:21:14.152446",
     "exception": false,
     "start_time": "2021-09-22T17:21:14.101799",
     "status": "completed"
    },
    "tags": []
   },
   "source": [
    "Nope looks like it's in categorical vars."
   ]
  },
  {
   "cell_type": "code",
   "execution_count": 11,
   "id": "1b29f2be",
   "metadata": {
    "execution": {
     "iopub.execute_input": "2021-09-22T17:21:14.261098Z",
     "iopub.status.busy": "2021-09-22T17:21:14.260126Z",
     "iopub.status.idle": "2021-09-22T17:21:14.263417Z",
     "shell.execute_reply": "2021-09-22T17:21:14.263936Z",
     "shell.execute_reply.started": "2021-09-22T17:15:44.957811Z"
    },
    "papermill": {
     "duration": 0.056878,
     "end_time": "2021-09-22T17:21:14.264140",
     "exception": false,
     "start_time": "2021-09-22T17:21:14.207262",
     "status": "completed"
    },
    "tags": []
   },
   "outputs": [],
   "source": [
    "# df_train.loc[:, categorical_features] = df_train.loc[:, categorical_features ].applymap(str)\n",
    "# df_test.loc[:, categorical_features] = df_test.loc[:, categorical_features ].applymap(str)"
   ]
  },
  {
   "cell_type": "markdown",
   "id": "12a6c3f5",
   "metadata": {
    "papermill": {
     "duration": 0.050245,
     "end_time": "2021-09-22T17:21:14.365844",
     "exception": false,
     "start_time": "2021-09-22T17:21:14.315599",
     "status": "completed"
    },
    "tags": []
   },
   "source": [
    "not in categorical vars. So let's print out each var and it's type"
   ]
  },
  {
   "cell_type": "markdown",
   "id": "9f7ef357",
   "metadata": {
    "papermill": {
     "duration": 0.049507,
     "end_time": "2021-09-22T17:21:14.465352",
     "exception": false,
     "start_time": "2021-09-22T17:21:14.415845",
     "status": "completed"
    },
    "tags": []
   },
   "source": [
    "So ordinal is still mixed."
   ]
  },
  {
   "cell_type": "markdown",
   "id": "858bd166",
   "metadata": {
    "papermill": {
     "duration": 0.049879,
     "end_time": "2021-09-22T17:21:14.565185",
     "exception": false,
     "start_time": "2021-09-22T17:21:14.515306",
     "status": "completed"
    },
    "tags": []
   },
   "source": [
    "still not converting from int to str"
   ]
  },
  {
   "cell_type": "code",
   "execution_count": 12,
   "id": "5623160d",
   "metadata": {
    "execution": {
     "iopub.execute_input": "2021-09-22T17:21:14.669216Z",
     "iopub.status.busy": "2021-09-22T17:21:14.668513Z",
     "iopub.status.idle": "2021-09-22T17:21:14.671327Z",
     "shell.execute_reply": "2021-09-22T17:21:14.671801Z",
     "shell.execute_reply.started": "2021-09-22T17:15:44.964972Z"
    },
    "papermill": {
     "duration": 0.056904,
     "end_time": "2021-09-22T17:21:14.671995",
     "exception": false,
     "start_time": "2021-09-22T17:21:14.615091",
     "status": "completed"
    },
    "tags": []
   },
   "outputs": [],
   "source": [
    "# df_train.loc[:, ordinal_features] = df_train.loc[:, ordinal_features].astype(str)\n",
    "# df_test.loc[:, ordinal_features] = df_test.loc[:, ordinal_features].astype(str) "
   ]
  },
  {
   "cell_type": "code",
   "execution_count": 13,
   "id": "5a85afbc",
   "metadata": {
    "execution": {
     "iopub.execute_input": "2021-09-22T17:21:14.775545Z",
     "iopub.status.busy": "2021-09-22T17:21:14.774827Z",
     "iopub.status.idle": "2021-09-22T17:21:14.777897Z",
     "shell.execute_reply": "2021-09-22T17:21:14.778486Z",
     "shell.execute_reply.started": "2021-09-22T17:15:44.978518Z"
    },
    "papermill": {
     "duration": 0.057049,
     "end_time": "2021-09-22T17:21:14.778667",
     "exception": false,
     "start_time": "2021-09-22T17:21:14.721618",
     "status": "completed"
    },
    "tags": []
   },
   "outputs": [],
   "source": [
    "# df_train.dtypes"
   ]
  },
  {
   "cell_type": "markdown",
   "id": "36667701",
   "metadata": {
    "papermill": {
     "duration": 0.050969,
     "end_time": "2021-09-22T17:21:14.879947",
     "exception": false,
     "start_time": "2021-09-22T17:21:14.828978",
     "status": "completed"
    },
    "tags": []
   },
   "source": [
    "Assign after recoding data"
   ]
  },
  {
   "cell_type": "code",
   "execution_count": 14,
   "id": "31fe78ab",
   "metadata": {
    "execution": {
     "iopub.execute_input": "2021-09-22T17:21:14.984114Z",
     "iopub.status.busy": "2021-09-22T17:21:14.983440Z",
     "iopub.status.idle": "2021-09-22T17:21:14.992613Z",
     "shell.execute_reply": "2021-09-22T17:21:14.993112Z",
     "shell.execute_reply.started": "2021-09-22T17:15:44.993836Z"
    },
    "papermill": {
     "duration": 0.062464,
     "end_time": "2021-09-22T17:21:14.993308",
     "exception": false,
     "start_time": "2021-09-22T17:21:14.930844",
     "status": "completed"
    },
    "tags": []
   },
   "outputs": [],
   "source": [
    "train_x = df_train[numerical_features + ordinal_features + categorical_features]\n",
    "train_y = df_train[\"SalePrice\"]\n",
    "test_x = df_test[numerical_features + ordinal_features + categorical_features]\n"
   ]
  },
  {
   "cell_type": "code",
   "execution_count": 15,
   "id": "2cc3fda1",
   "metadata": {
    "execution": {
     "iopub.execute_input": "2021-09-22T17:21:15.098839Z",
     "iopub.status.busy": "2021-09-22T17:21:15.097779Z",
     "iopub.status.idle": "2021-09-22T17:21:15.105409Z",
     "shell.execute_reply": "2021-09-22T17:21:15.105989Z",
     "shell.execute_reply.started": "2021-09-22T17:15:45.013964Z"
    },
    "papermill": {
     "duration": 0.062158,
     "end_time": "2021-09-22T17:21:15.106172",
     "exception": false,
     "start_time": "2021-09-22T17:21:15.044014",
     "status": "completed"
    },
    "tags": []
   },
   "outputs": [],
   "source": [
    "\n",
    "numerical_pipeline = Pipeline([\n",
    "    (\"imp\", SimpleImputer(strategy= \"median\")),\n",
    "    (\"enc\", RobustScaler())\n",
    "])\n",
    "\n",
    "\n",
    "ordinal_pipeline = Pipeline([ \n",
    "    (\"imp\", SimpleImputer(strategy = \"constant\", fill_value=-1.0)),\n",
    "    (\"enc\", OrdinalEncoder(handle_unknown = \"use_encoded_value\", unknown_value = -1))\n",
    "])\n",
    "\n",
    "categorical_pipeline = Pipeline([\n",
    "    (\"imp\", SimpleImputer(strategy= \"most_frequent\")),\n",
    "    (\"enc\", OneHotEncoder(sparse=True, handle_unknown = \"ignore\"))\n",
    "])\n",
    "\n",
    "\n",
    "pre_pipe = ColumnTransformer([\n",
    "    (\"cat_pre\", categorical_pipeline, categorical_features),\n",
    "    (\"ord_pre\", ordinal_pipeline, ordinal_features),\n",
    "    (\"num_pre\", numerical_pipeline, numerical_features)\n",
    "])\n"
   ]
  },
  {
   "cell_type": "code",
   "execution_count": 16,
   "id": "6c3ca5e0",
   "metadata": {
    "execution": {
     "iopub.execute_input": "2021-09-22T17:21:15.209805Z",
     "iopub.status.busy": "2021-09-22T17:21:15.209145Z",
     "iopub.status.idle": "2021-09-22T17:21:15.228672Z",
     "shell.execute_reply": "2021-09-22T17:21:15.229193Z",
     "shell.execute_reply.started": "2021-09-22T17:19:56.063484Z"
    },
    "papermill": {
     "duration": 0.072779,
     "end_time": "2021-09-22T17:21:15.229389",
     "exception": false,
     "start_time": "2021-09-22T17:21:15.156610",
     "status": "completed"
    },
    "tags": []
   },
   "outputs": [],
   "source": [
    "from sklearn.ensemble import GradientBoostingRegressor\n",
    "model = GradientBoostingRegressor(loss = 'huber', n_estimators= 200, learning_rate=.15 )"
   ]
  },
  {
   "cell_type": "code",
   "execution_count": 17,
   "id": "953aead5",
   "metadata": {
    "execution": {
     "iopub.execute_input": "2021-09-22T17:21:15.332654Z",
     "iopub.status.busy": "2021-09-22T17:21:15.332001Z",
     "iopub.status.idle": "2021-09-22T17:21:15.336670Z",
     "shell.execute_reply": "2021-09-22T17:21:15.336107Z",
     "shell.execute_reply.started": "2021-09-22T17:19:58.720576Z"
    },
    "papermill": {
     "duration": 0.057617,
     "end_time": "2021-09-22T17:21:15.336900",
     "exception": false,
     "start_time": "2021-09-22T17:21:15.279283",
     "status": "completed"
    },
    "tags": []
   },
   "outputs": [],
   "source": [
    "full_pipe = Pipeline([\n",
    "    (\"pre\", pre_pipe),\n",
    "    (\"model\", model)\n",
    "])"
   ]
  },
  {
   "cell_type": "code",
   "execution_count": 18,
   "id": "87910ecb",
   "metadata": {
    "execution": {
     "iopub.execute_input": "2021-09-22T17:21:15.445097Z",
     "iopub.status.busy": "2021-09-22T17:21:15.441018Z",
     "iopub.status.idle": "2021-09-22T17:21:17.170692Z",
     "shell.execute_reply": "2021-09-22T17:21:17.170129Z",
     "shell.execute_reply.started": "2021-09-22T17:20:00.969211Z"
    },
    "papermill": {
     "duration": 1.78319,
     "end_time": "2021-09-22T17:21:17.170860",
     "exception": false,
     "start_time": "2021-09-22T17:21:15.387670",
     "status": "completed"
    },
    "tags": []
   },
   "outputs": [
    {
     "data": {
      "text/plain": [
       "Pipeline(steps=[('pre',\n",
       "                 ColumnTransformer(transformers=[('cat_pre',\n",
       "                                                  Pipeline(steps=[('imp',\n",
       "                                                                   SimpleImputer(strategy='most_frequent')),\n",
       "                                                                  ('enc',\n",
       "                                                                   OneHotEncoder(handle_unknown='ignore'))]),\n",
       "                                                  ['MSZoning', 'Heating',\n",
       "                                                   'BldgType', 'HouseStyle',\n",
       "                                                   'Foundation', 'GarageType',\n",
       "                                                   'GarageFinish',\n",
       "                                                   'SaleCondition',\n",
       "                                                   'SaleType']),\n",
       "                                                 ('ord_pre',\n",
       "                                                  Pipeline(steps=[('imp',\n",
       "                                                                   SimpleImputer(fill_va...\n",
       "                                                   'MoSold', 'FireplaceQu',\n",
       "                                                   'HeatingQC', 'KitchenQual',\n",
       "                                                   'PoolQC']),\n",
       "                                                 ('num_pre',\n",
       "                                                  Pipeline(steps=[('imp',\n",
       "                                                                   SimpleImputer(strategy='median')),\n",
       "                                                                  ('enc',\n",
       "                                                                   RobustScaler())]),\n",
       "                                                  ['MSSubClass', 'LotFrontage',\n",
       "                                                   'LotArea', 'OverallQual',\n",
       "                                                   'OverallCond', '1stFlrSF',\n",
       "                                                   '2ndFlrSF', 'FullBath',\n",
       "                                                   'HalfBath',\n",
       "                                                   'TotalBsmtSF'])])),\n",
       "                ('model',\n",
       "                 GradientBoostingRegressor(learning_rate=0.15, loss='huber',\n",
       "                                           n_estimators=200))])"
      ]
     },
     "execution_count": 18,
     "metadata": {},
     "output_type": "execute_result"
    }
   ],
   "source": [
    "full_pipe.fit(train_x, train_y)"
   ]
  },
  {
   "cell_type": "code",
   "execution_count": 19,
   "id": "4e6d70bf",
   "metadata": {
    "execution": {
     "iopub.execute_input": "2021-09-22T17:21:17.283505Z",
     "iopub.status.busy": "2021-09-22T17:21:17.282558Z",
     "iopub.status.idle": "2021-09-22T17:21:17.284276Z",
     "shell.execute_reply": "2021-09-22T17:21:17.284781Z",
     "shell.execute_reply.started": "2021-09-22T17:15:45.702165Z"
    },
    "papermill": {
     "duration": 0.063159,
     "end_time": "2021-09-22T17:21:17.284955",
     "exception": false,
     "start_time": "2021-09-22T17:21:17.221796",
     "status": "completed"
    },
    "tags": []
   },
   "outputs": [],
   "source": [
    "# train_x"
   ]
  },
  {
   "cell_type": "code",
   "execution_count": 20,
   "id": "2533295d",
   "metadata": {
    "execution": {
     "iopub.execute_input": "2021-09-22T17:21:17.390621Z",
     "iopub.status.busy": "2021-09-22T17:21:17.389955Z",
     "iopub.status.idle": "2021-09-22T17:21:17.392654Z",
     "shell.execute_reply": "2021-09-22T17:21:17.393232Z",
     "shell.execute_reply.started": "2021-09-22T17:15:45.706727Z"
    },
    "papermill": {
     "duration": 0.057289,
     "end_time": "2021-09-22T17:21:17.393407",
     "exception": false,
     "start_time": "2021-09-22T17:21:17.336118",
     "status": "completed"
    },
    "tags": []
   },
   "outputs": [],
   "source": [
    "# test_x"
   ]
  },
  {
   "cell_type": "code",
   "execution_count": 21,
   "id": "df0eb64d",
   "metadata": {
    "execution": {
     "iopub.execute_input": "2021-09-22T17:21:17.504145Z",
     "iopub.status.busy": "2021-09-22T17:21:17.498165Z",
     "iopub.status.idle": "2021-09-22T17:21:17.543891Z",
     "shell.execute_reply": "2021-09-22T17:21:17.543236Z",
     "shell.execute_reply.started": "2021-09-22T17:20:04.726241Z"
    },
    "papermill": {
     "duration": 0.098861,
     "end_time": "2021-09-22T17:21:17.544043",
     "exception": false,
     "start_time": "2021-09-22T17:21:17.445182",
     "status": "completed"
    },
    "tags": []
   },
   "outputs": [
    {
     "data": {
      "text/plain": [
       "array([125546.48712672, 163804.27314347, 183016.39646487, ...,\n",
       "       171382.75442958, 125924.64808495, 222412.20675237])"
      ]
     },
     "execution_count": 21,
     "metadata": {},
     "output_type": "execute_result"
    }
   ],
   "source": [
    "y_hat = full_pipe.predict(test_x)\n",
    "y_hat"
   ]
  },
  {
   "cell_type": "code",
   "execution_count": 22,
   "id": "b3b381e9",
   "metadata": {
    "execution": {
     "iopub.execute_input": "2021-09-22T17:21:17.657184Z",
     "iopub.status.busy": "2021-09-22T17:21:17.656145Z",
     "iopub.status.idle": "2021-09-22T17:21:17.666217Z",
     "shell.execute_reply": "2021-09-22T17:21:17.666744Z",
     "shell.execute_reply.started": "2021-09-22T17:20:06.958262Z"
    },
    "papermill": {
     "duration": 0.071423,
     "end_time": "2021-09-22T17:21:17.666963",
     "exception": false,
     "start_time": "2021-09-22T17:21:17.595540",
     "status": "completed"
    },
    "tags": []
   },
   "outputs": [],
   "source": [
    "submission = pd.DataFrame()\n",
    "submission.loc[:, \"Id\"] = df_test.loc[:, \"Id\"]\n",
    "submission.loc[:, \"SalePrice\"] = y_hat\n",
    "submission.to_csv(\"submission.csv\", index=False)"
   ]
  },
  {
   "cell_type": "code",
   "execution_count": 23,
   "id": "a1490802",
   "metadata": {
    "execution": {
     "iopub.execute_input": "2021-09-22T17:21:17.772624Z",
     "iopub.status.busy": "2021-09-22T17:21:17.771585Z",
     "iopub.status.idle": "2021-09-22T17:21:17.790973Z",
     "shell.execute_reply": "2021-09-22T17:21:17.791606Z",
     "shell.execute_reply.started": "2021-09-22T17:15:45.790034Z"
    },
    "papermill": {
     "duration": 0.074091,
     "end_time": "2021-09-22T17:21:17.791816",
     "exception": false,
     "start_time": "2021-09-22T17:21:17.717725",
     "status": "completed"
    },
    "tags": []
   },
   "outputs": [],
   "source": [
    "test_y = pd.read_csv(\"../input/house-prices-advanced-regression-techniques/sample_submission.csv\")\n",
    "test_y = test_y.loc[:, \"SalePrice\"]\n"
   ]
  },
  {
   "cell_type": "code",
   "execution_count": null,
   "id": "cb9f94d6",
   "metadata": {
    "papermill": {
     "duration": 0.050234,
     "end_time": "2021-09-22T17:21:17.893401",
     "exception": false,
     "start_time": "2021-09-22T17:21:17.843167",
     "status": "completed"
    },
    "tags": []
   },
   "outputs": [],
   "source": []
  },
  {
   "cell_type": "markdown",
   "id": "16bc067a",
   "metadata": {
    "papermill": {
     "duration": 0.050058,
     "end_time": "2021-09-22T17:21:17.994043",
     "exception": false,
     "start_time": "2021-09-22T17:21:17.943985",
     "status": "completed"
    },
    "tags": []
   },
   "source": [
    "take the log of the sale prices"
   ]
  },
  {
   "cell_type": "code",
   "execution_count": 24,
   "id": "e8ce566f",
   "metadata": {
    "execution": {
     "iopub.execute_input": "2021-09-22T17:21:18.099567Z",
     "iopub.status.busy": "2021-09-22T17:21:18.098840Z",
     "iopub.status.idle": "2021-09-22T17:21:18.106849Z",
     "shell.execute_reply": "2021-09-22T17:21:18.106324Z",
     "shell.execute_reply.started": "2021-09-22T17:20:10.578836Z"
    },
    "papermill": {
     "duration": 0.06141,
     "end_time": "2021-09-22T17:21:18.106999",
     "exception": false,
     "start_time": "2021-09-22T17:21:18.045589",
     "status": "completed"
    },
    "tags": []
   },
   "outputs": [
    {
     "name": "stdout",
     "output_type": "stream",
     "text": [
      "0.36430875394911477\n"
     ]
    }
   ],
   "source": [
    "log_y = np.log(test_y)\n",
    "log_y_hat = np.log(y_hat)\n",
    "from sklearn.metrics import mean_squared_error as mse\n",
    "from math import sqrt\n",
    "log_mse = mse(y_true = log_y, y_pred = log_y_hat)\n",
    "log_msre = sqrt(log_mse)\n",
    "print(log_msre)"
   ]
  },
  {
   "cell_type": "code",
   "execution_count": 25,
   "id": "b166948d",
   "metadata": {
    "execution": {
     "iopub.execute_input": "2021-09-22T17:21:18.214436Z",
     "iopub.status.busy": "2021-09-22T17:21:18.213709Z",
     "iopub.status.idle": "2021-09-22T17:21:18.218693Z",
     "shell.execute_reply": "2021-09-22T17:21:18.219475Z",
     "shell.execute_reply.started": "2021-09-22T17:20:13.787525Z"
    },
    "papermill": {
     "duration": 0.059462,
     "end_time": "2021-09-22T17:21:18.219721",
     "exception": false,
     "start_time": "2021-09-22T17:21:18.160259",
     "status": "completed"
    },
    "tags": []
   },
   "outputs": [
    {
     "name": "stdout",
     "output_type": "stream",
     "text": [
      "0.13272086820395665\n"
     ]
    }
   ],
   "source": [
    "print(log_mse)"
   ]
  },
  {
   "cell_type": "code",
   "execution_count": 26,
   "id": "0765a12f",
   "metadata": {
    "execution": {
     "iopub.execute_input": "2021-09-22T17:21:18.329729Z",
     "iopub.status.busy": "2021-09-22T17:21:18.329044Z",
     "iopub.status.idle": "2021-09-22T17:21:18.369210Z",
     "shell.execute_reply": "2021-09-22T17:21:18.369684Z",
     "shell.execute_reply.started": "2021-09-22T17:20:18.320396Z"
    },
    "papermill": {
     "duration": 0.097979,
     "end_time": "2021-09-22T17:21:18.369885",
     "exception": false,
     "start_time": "2021-09-22T17:21:18.271906",
     "status": "completed"
    },
    "tags": []
   },
   "outputs": [
    {
     "data": {
      "text/plain": [
       "-13.576470841449558"
      ]
     },
     "execution_count": 26,
     "metadata": {},
     "output_type": "execute_result"
    }
   ],
   "source": [
    "full_pipe.score(test_x, test_y)"
   ]
  }
 ],
 "metadata": {
  "kernelspec": {
   "display_name": "Python 3",
   "language": "python",
   "name": "python3"
  },
  "language_info": {
   "codemirror_mode": {
    "name": "ipython",
    "version": 3
   },
   "file_extension": ".py",
   "mimetype": "text/x-python",
   "name": "python",
   "nbconvert_exporter": "python",
   "pygments_lexer": "ipython3",
   "version": "3.7.10"
  },
  "papermill": {
   "default_parameters": {},
   "duration": 43.821865,
   "end_time": "2021-09-22T17:21:19.649084",
   "environment_variables": {},
   "exception": null,
   "input_path": "__notebook__.ipynb",
   "output_path": "__notebook__.ipynb",
   "parameters": {},
   "start_time": "2021-09-22T17:20:35.827219",
   "version": "2.3.3"
  }
 },
 "nbformat": 4,
 "nbformat_minor": 5
}
